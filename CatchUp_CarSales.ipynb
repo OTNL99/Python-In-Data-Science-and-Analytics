{
 "cells": [
  {
   "cell_type": "markdown",
   "id": "fac11317-399d-49a9-a6f6-b63d8835f173",
   "metadata": {},
   "source": [
    "## Importing Libraries"
   ]
  },
  {
   "cell_type": "code",
   "execution_count": 5,
   "id": "2c35f87f-c2af-464e-be23-7364ce89473d",
   "metadata": {},
   "outputs": [],
   "source": [
    "import numpy as np\n",
    "import pandas as pd\n",
    "import seaborn as sns\n",
    "import matplotlib.pyplot as plt"
   ]
  },
  {
   "cell_type": "markdown",
   "id": "5e56a4ca-f224-4fce-8beb-312181d940ba",
   "metadata": {},
   "source": [
    "## Load Data"
   ]
  },
  {
   "cell_type": "code",
   "execution_count": 7,
   "id": "a00174f7-c48e-4779-8e9c-d6d8f1bf2512",
   "metadata": {},
   "outputs": [
    {
     "data": {
      "text/html": [
       "<div>\n",
       "<style scoped>\n",
       "    .dataframe tbody tr th:only-of-type {\n",
       "        vertical-align: middle;\n",
       "    }\n",
       "\n",
       "    .dataframe tbody tr th {\n",
       "        vertical-align: top;\n",
       "    }\n",
       "\n",
       "    .dataframe thead th {\n",
       "        text-align: right;\n",
       "    }\n",
       "</style>\n",
       "<table border=\"1\" class=\"dataframe\">\n",
       "  <thead>\n",
       "    <tr style=\"text-align: right;\">\n",
       "      <th></th>\n",
       "      <th>Make</th>\n",
       "      <th>Colour</th>\n",
       "      <th>Odometer (KM)</th>\n",
       "      <th>Doors</th>\n",
       "      <th>Price</th>\n",
       "    </tr>\n",
       "  </thead>\n",
       "  <tbody>\n",
       "    <tr>\n",
       "      <th>0</th>\n",
       "      <td>Honda</td>\n",
       "      <td>White</td>\n",
       "      <td>35431.0</td>\n",
       "      <td>4.0</td>\n",
       "      <td>15323.0</td>\n",
       "    </tr>\n",
       "    <tr>\n",
       "      <th>1</th>\n",
       "      <td>BMW</td>\n",
       "      <td>Blue</td>\n",
       "      <td>192714.0</td>\n",
       "      <td>5.0</td>\n",
       "      <td>19943.0</td>\n",
       "    </tr>\n",
       "    <tr>\n",
       "      <th>2</th>\n",
       "      <td>Honda</td>\n",
       "      <td>White</td>\n",
       "      <td>84714.0</td>\n",
       "      <td>4.0</td>\n",
       "      <td>28343.0</td>\n",
       "    </tr>\n",
       "    <tr>\n",
       "      <th>3</th>\n",
       "      <td>Toyota</td>\n",
       "      <td>White</td>\n",
       "      <td>154365.0</td>\n",
       "      <td>4.0</td>\n",
       "      <td>13434.0</td>\n",
       "    </tr>\n",
       "    <tr>\n",
       "      <th>4</th>\n",
       "      <td>Nissan</td>\n",
       "      <td>Blue</td>\n",
       "      <td>181577.0</td>\n",
       "      <td>3.0</td>\n",
       "      <td>14043.0</td>\n",
       "    </tr>\n",
       "  </tbody>\n",
       "</table>\n",
       "</div>"
      ],
      "text/plain": [
       "     Make Colour  Odometer (KM)  Doors    Price\n",
       "0   Honda  White        35431.0    4.0  15323.0\n",
       "1     BMW   Blue       192714.0    5.0  19943.0\n",
       "2   Honda  White        84714.0    4.0  28343.0\n",
       "3  Toyota  White       154365.0    4.0  13434.0\n",
       "4  Nissan   Blue       181577.0    3.0  14043.0"
      ]
     },
     "execution_count": 7,
     "metadata": {},
     "output_type": "execute_result"
    }
   ],
   "source": [
    "df=pd.read_csv('car-sales-extended-missing-data.csv')\n",
    "df.head()"
   ]
  },
  {
   "cell_type": "code",
   "execution_count": 9,
   "id": "9b5b5228-70d5-4e56-948b-d207cca24de2",
   "metadata": {},
   "outputs": [
    {
     "data": {
      "text/plain": [
       "(1000, 5)"
      ]
     },
     "execution_count": 9,
     "metadata": {},
     "output_type": "execute_result"
    }
   ],
   "source": [
    "df.shape"
   ]
  },
  {
   "cell_type": "code",
   "execution_count": 12,
   "id": "8f016dfd-476f-4a9d-bc36-8d90853a3b7c",
   "metadata": {},
   "outputs": [
    {
     "name": "stdout",
     "output_type": "stream",
     "text": [
      "<class 'pandas.core.frame.DataFrame'>\n",
      "RangeIndex: 1000 entries, 0 to 999\n",
      "Data columns (total 5 columns):\n",
      " #   Column         Non-Null Count  Dtype  \n",
      "---  ------         --------------  -----  \n",
      " 0   Make           951 non-null    object \n",
      " 1   Colour         950 non-null    object \n",
      " 2   Odometer (KM)  950 non-null    float64\n",
      " 3   Doors          950 non-null    float64\n",
      " 4   Price          950 non-null    float64\n",
      "dtypes: float64(3), object(2)\n",
      "memory usage: 39.2+ KB\n"
     ]
    }
   ],
   "source": [
    "df.info()"
   ]
  },
  {
   "cell_type": "code",
   "execution_count": 14,
   "id": "ef3d6878-48ea-4948-9c4a-f46f8c2c4741",
   "metadata": {},
   "outputs": [
    {
     "data": {
      "text/plain": [
       "1"
      ]
     },
     "execution_count": 14,
     "metadata": {},
     "output_type": "execute_result"
    }
   ],
   "source": [
    "df.duplicated().sum()"
   ]
  },
  {
   "cell_type": "code",
   "execution_count": 15,
   "id": "af163042-3b73-4534-8b5d-7caf5da6e7c8",
   "metadata": {},
   "outputs": [
    {
     "data": {
      "text/plain": [
       "Make             49\n",
       "Colour           50\n",
       "Odometer (KM)    50\n",
       "Doors            50\n",
       "Price            50\n",
       "dtype: int64"
      ]
     },
     "execution_count": 15,
     "metadata": {},
     "output_type": "execute_result"
    }
   ],
   "source": [
    "df.isna().sum()"
   ]
  },
  {
   "cell_type": "markdown",
   "id": "b7d5d94b-9ee8-446a-a5b5-435e66bb6924",
   "metadata": {},
   "source": [
    "## EDA(Exploratorry Data Analysis) & Feature Engineering"
   ]
  },
  {
   "cell_type": "code",
   "execution_count": 22,
   "id": "ac9fbfb6-69df-4900-b258-9c9fcc4b4eea",
   "metadata": {},
   "outputs": [
    {
     "data": {
      "text/plain": [
       "<Axes: >"
      ]
     },
     "execution_count": 22,
     "metadata": {},
     "output_type": "execute_result"
    },
    {
     "data": {
      "image/png": "[encoded data removed]",
      "text/plain": [
       "<Figure size 1000x600 with 2 Axes>"
      ]
     },
     "metadata": {},
     "output_type": "display_data"
    }
   ],
   "source": [
    "plt.figure(figsize=(10,6))\n",
    "sns.heatmap(df.isna(),yticklabels=False,cmap='viridis')"
   ]
  },
  {
   "cell_type": "code",
   "execution_count": 25,
   "id": "ca16962f-825e-4b32-8051-2d6adc93f445",
   "metadata": {},
   "outputs": [
    {
     "data": {
      "text/html": [
       "<div>\n",
       "<style scoped>\n",
       "    .dataframe tbody tr th:only-of-type {\n",
       "        vertical-align: middle;\n",
       "    }\n",
       "\n",
       "    .dataframe tbody tr th {\n",
       "        vertical-align: top;\n",
       "    }\n",
       "\n",
       "    .dataframe thead th {\n",
       "        text-align: right;\n",
       "    }\n",
       "</style>\n",
       "<table border=\"1\" class=\"dataframe\">\n",
       "  <thead>\n",
       "    <tr style=\"text-align: right;\">\n",
       "      <th></th>\n",
       "      <th>Odometer (KM)</th>\n",
       "      <th>Doors</th>\n",
       "      <th>Price</th>\n",
       "    </tr>\n",
       "  </thead>\n",
       "  <tbody>\n",
       "    <tr>\n",
       "      <th>count</th>\n",
       "      <td>950.000000</td>\n",
       "      <td>950.000000</td>\n",
       "      <td>950.000000</td>\n",
       "    </tr>\n",
       "    <tr>\n",
       "      <th>mean</th>\n",
       "      <td>131253.237895</td>\n",
       "      <td>4.011579</td>\n",
       "      <td>16042.814737</td>\n",
       "    </tr>\n",
       "    <tr>\n",
       "      <th>std</th>\n",
       "      <td>69094.857187</td>\n",
       "      <td>0.382539</td>\n",
       "      <td>8581.695036</td>\n",
       "    </tr>\n",
       "    <tr>\n",
       "      <th>min</th>\n",
       "      <td>10148.000000</td>\n",
       "      <td>3.000000</td>\n",
       "      <td>2796.000000</td>\n",
       "    </tr>\n",
       "    <tr>\n",
       "      <th>25%</th>\n",
       "      <td>70391.250000</td>\n",
       "      <td>4.000000</td>\n",
       "      <td>9529.250000</td>\n",
       "    </tr>\n",
       "    <tr>\n",
       "      <th>50%</th>\n",
       "      <td>131821.000000</td>\n",
       "      <td>4.000000</td>\n",
       "      <td>14297.000000</td>\n",
       "    </tr>\n",
       "    <tr>\n",
       "      <th>75%</th>\n",
       "      <td>192668.500000</td>\n",
       "      <td>4.000000</td>\n",
       "      <td>20806.250000</td>\n",
       "    </tr>\n",
       "    <tr>\n",
       "      <th>max</th>\n",
       "      <td>249860.000000</td>\n",
       "      <td>5.000000</td>\n",
       "      <td>52458.000000</td>\n",
       "    </tr>\n",
       "  </tbody>\n",
       "</table>\n",
       "</div>"
      ],
      "text/plain": [
       "       Odometer (KM)       Doors         Price\n",
       "count     950.000000  950.000000    950.000000\n",
       "mean   131253.237895    4.011579  16042.814737\n",
       "std     69094.857187    0.382539   8581.695036\n",
       "min     10148.000000    3.000000   2796.000000\n",
       "25%     70391.250000    4.000000   9529.250000\n",
       "50%    131821.000000    4.000000  14297.000000\n",
       "75%    192668.500000    4.000000  20806.250000\n",
       "max    249860.000000    5.000000  52458.000000"
      ]
     },
     "execution_count": 25,
     "metadata": {},
     "output_type": "execute_result"
    }
   ],
   "source": [
    "df.describe()"
   ]
  },
  {
   "cell_type": "code",
   "execution_count": 26,
   "id": "aeb8e239-2fff-4fdb-afec-1d9ab25a9eba",
   "metadata": {},
   "outputs": [
    {
     "data": {
      "text/plain": [
       "Make\n",
       "Toyota    379\n",
       "Honda     292\n",
       "Nissan    183\n",
       "BMW        97\n",
       "Name: count, dtype: int64"
      ]
     },
     "execution_count": 26,
     "metadata": {},
     "output_type": "execute_result"
    }
   ],
   "source": [
    "df['Make'].value_counts()"
   ]
  },
  {
   "cell_type": "code",
   "execution_count": 27,
   "id": "5b2c60fc-70d0-4cf8-ad2a-02b4186fc4d2",
   "metadata": {},
   "outputs": [
    {
     "data": {
      "text/plain": [
       "Colour\n",
       "White    390\n",
       "Blue     302\n",
       "Black     95\n",
       "Red       88\n",
       "Green     75\n",
       "Name: count, dtype: int64"
      ]
     },
     "execution_count": 27,
     "metadata": {},
     "output_type": "execute_result"
    }
   ],
   "source": [
    "df['Colour'].value_counts()"
   ]
  },
  {
   "cell_type": "markdown",
   "id": "3bcfb937-b90b-42c6-a50b-d7a61cfa0dad",
   "metadata": {},
   "source": [
    "## Barplot Of The Make and Color Columns"
   ]
  },
  {
   "cell_type": "code",
   "execution_count": 28,
   "id": "6fc0be0a-ee90-444e-973c-e0ecc6b49acb",
   "metadata": {},
   "outputs": [
    {
     "data": {
      "text/plain": [
       "<Axes: xlabel='Make', ylabel='count'>"
      ]
     },
     "execution_count": 28,
     "metadata": {},
     "output_type": "execute_result"
    },
    {
     "data": {
      "image/png": "[encoded data removed]",
      "text/plain": [
       "<Figure size 640x480 with 1 Axes>"
      ]
     },
     "metadata": {},
     "output_type": "display_data"
    }
   ],
   "source": [
    "sns.barplot(df['Make'].value_counts())"
   ]
  },
  {
   "cell_type": "code",
   "execution_count": 31,
   "id": "cce21df3-2820-4581-ba6d-b1dc726f4829",
   "metadata": {},
   "outputs": [
    {
     "data": {
      "text/plain": [
       "<Axes: xlabel='Colour', ylabel='count'>"
      ]
     },
     "execution_count": 31,
     "metadata": {},
     "output_type": "execute_result"
    },
    {
     "data": {
      "image/png": "[encoded data removed]",
      "text/plain": [
       "<Figure size 640x480 with 1 Axes>"
      ]
     },
     "metadata": {},
     "output_type": "display_data"
    }
   ],
   "source": [
    "sns.barplot(df['Colour'].value_counts())"
   ]
  },
  {
   "cell_type": "markdown",
   "id": "9d9a98b0-b32e-4236-86a7-61c6ba8d3aea",
   "metadata": {},
   "source": [
    "# Histogram OF Price"
   ]
  },
  {
   "cell_type": "code",
   "execution_count": 32,
   "id": "96898a1b-1d4a-4597-9ccf-9121a62f011b",
   "metadata": {},
   "outputs": [
    {
     "data": {
      "text/plain": [
       "Index(['Make', 'Colour', 'Odometer (KM)', 'Doors', 'Price'], dtype='object')"
      ]
     },
     "execution_count": 32,
     "metadata": {},
     "output_type": "execute_result"
    }
   ],
   "source": [
    "df.columns"
   ]
  },
  {
   "cell_type": "code",
   "execution_count": 45,
   "id": "4349434e-9655-414d-aa33-8b737104e1da",
   "metadata": {},
   "outputs": [
    {
     "data": {
      "text/plain": [
       "Text(0.5, 1.0, 'Price Distribution')"
      ]
     },
     "execution_count": 45,
     "metadata": {},
     "output_type": "execute_result"
    },
    {
     "data": {
      "image/png": "[encoded data removed]",
      "text/plain": [
       "<Figure size 640x480 with 1 Axes>"
      ]
     },
     "metadata": {},
     "output_type": "display_data"
    }
   ],
   "source": [
    "sns.set_style('darkgrid')\n",
    "sns.histplot(df['Price'],kde=True)\n",
    "plt.title('Price Distribution')"
   ]
  },
  {
   "cell_type": "markdown",
   "id": "a4e6d517-707a-4ceb-9d1d-72bf56a95e48",
   "metadata": {},
   "source": [
    "# Correlation Plot"
   ]
  },
  {
   "cell_type": "code",
   "execution_count": 47,
   "id": "c8e9f8fd-b567-4aa4-b255-9eb8cdf607b4",
   "metadata": {},
   "outputs": [
    {
     "data": {
      "text/html": [
       "<div>\n",
       "<style scoped>\n",
       "    .dataframe tbody tr th:only-of-type {\n",
       "        vertical-align: middle;\n",
       "    }\n",
       "\n",
       "    .dataframe tbody tr th {\n",
       "        vertical-align: top;\n",
       "    }\n",
       "\n",
       "    .dataframe thead th {\n",
       "        text-align: right;\n",
       "    }\n",
       "</style>\n",
       "<table border=\"1\" class=\"dataframe\">\n",
       "  <thead>\n",
       "    <tr style=\"text-align: right;\">\n",
       "      <th></th>\n",
       "      <th>Odometer (KM)</th>\n",
       "      <th>Doors</th>\n",
       "      <th>Price</th>\n",
       "    </tr>\n",
       "  </thead>\n",
       "  <tbody>\n",
       "    <tr>\n",
       "      <th>Odometer (KM)</th>\n",
       "      <td>1.000000</td>\n",
       "      <td>-0.027037</td>\n",
       "      <td>-0.405649</td>\n",
       "    </tr>\n",
       "    <tr>\n",
       "      <th>Doors</th>\n",
       "      <td>-0.027037</td>\n",
       "      <td>1.000000</td>\n",
       "      <td>0.243104</td>\n",
       "    </tr>\n",
       "    <tr>\n",
       "      <th>Price</th>\n",
       "      <td>-0.405649</td>\n",
       "      <td>0.243104</td>\n",
       "      <td>1.000000</td>\n",
       "    </tr>\n",
       "  </tbody>\n",
       "</table>\n",
       "</div>"
      ],
      "text/plain": [
       "               Odometer (KM)     Doors     Price\n",
       "Odometer (KM)       1.000000 -0.027037 -0.405649\n",
       "Doors              -0.027037  1.000000  0.243104\n",
       "Price              -0.405649  0.243104  1.000000"
      ]
     },
     "execution_count": 47,
     "metadata": {},
     "output_type": "execute_result"
    }
   ],
   "source": [
    "corr=df.corr(numeric_only=True)\n",
    "corr"
   ]
  },
  {
   "cell_type": "code",
   "execution_count": 51,
   "id": "36b14b92-2aa4-4a9c-bec0-661e8b1d5e08",
   "metadata": {},
   "outputs": [
    {
     "data": {
      "text/plain": [
       "<Axes: >"
      ]
     },
     "execution_count": 51,
     "metadata": {},
     "output_type": "execute_result"
    },
    {
     "data": {
      "image/png": "[encoded data removed]",
      "text/plain": [
       "<Figure size 1000x500 with 2 Axes>"
      ]
     },
     "metadata": {},
     "output_type": "display_data"
    }
   ],
   "source": [
    "plt.figure(figsize=(10,5))\n",
    "sns.heatmap(corr,annot=True,cmap='viridis')"
   ]
  },
  {
   "cell_type": "markdown",
   "id": "fa268e5d-a257-454e-aa0d-49f39a2a9ce8",
   "metadata": {},
   "source": [
    "## Handling Missing Values"
   ]
  },
  {
   "cell_type": "code",
   "execution_count": 52,
   "id": "781346f7-5aab-49fa-ab52-e3ae67c4687d",
   "metadata": {},
   "outputs": [
    {
     "data": {
      "text/html": [
       "<div>\n",
       "<style scoped>\n",
       "    .dataframe tbody tr th:only-of-type {\n",
       "        vertical-align: middle;\n",
       "    }\n",
       "\n",
       "    .dataframe tbody tr th {\n",
       "        vertical-align: top;\n",
       "    }\n",
       "\n",
       "    .dataframe thead th {\n",
       "        text-align: right;\n",
       "    }\n",
       "</style>\n",
       "<table border=\"1\" class=\"dataframe\">\n",
       "  <thead>\n",
       "    <tr style=\"text-align: right;\">\n",
       "      <th></th>\n",
       "      <th>Make</th>\n",
       "      <th>Colour</th>\n",
       "      <th>Odometer (KM)</th>\n",
       "      <th>Doors</th>\n",
       "      <th>Price</th>\n",
       "    </tr>\n",
       "  </thead>\n",
       "  <tbody>\n",
       "    <tr>\n",
       "      <th>0</th>\n",
       "      <td>Honda</td>\n",
       "      <td>White</td>\n",
       "      <td>35431.0</td>\n",
       "      <td>4.0</td>\n",
       "      <td>15323.0</td>\n",
       "    </tr>\n",
       "    <tr>\n",
       "      <th>1</th>\n",
       "      <td>BMW</td>\n",
       "      <td>Blue</td>\n",
       "      <td>192714.0</td>\n",
       "      <td>5.0</td>\n",
       "      <td>19943.0</td>\n",
       "    </tr>\n",
       "    <tr>\n",
       "      <th>2</th>\n",
       "      <td>Honda</td>\n",
       "      <td>White</td>\n",
       "      <td>84714.0</td>\n",
       "      <td>4.0</td>\n",
       "      <td>28343.0</td>\n",
       "    </tr>\n",
       "    <tr>\n",
       "      <th>3</th>\n",
       "      <td>Toyota</td>\n",
       "      <td>White</td>\n",
       "      <td>154365.0</td>\n",
       "      <td>4.0</td>\n",
       "      <td>13434.0</td>\n",
       "    </tr>\n",
       "    <tr>\n",
       "      <th>4</th>\n",
       "      <td>Nissan</td>\n",
       "      <td>Blue</td>\n",
       "      <td>181577.0</td>\n",
       "      <td>3.0</td>\n",
       "      <td>14043.0</td>\n",
       "    </tr>\n",
       "  </tbody>\n",
       "</table>\n",
       "</div>"
      ],
      "text/plain": [
       "     Make Colour  Odometer (KM)  Doors    Price\n",
       "0   Honda  White        35431.0    4.0  15323.0\n",
       "1     BMW   Blue       192714.0    5.0  19943.0\n",
       "2   Honda  White        84714.0    4.0  28343.0\n",
       "3  Toyota  White       154365.0    4.0  13434.0\n",
       "4  Nissan   Blue       181577.0    3.0  14043.0"
      ]
     },
     "execution_count": 52,
     "metadata": {},
     "output_type": "execute_result"
    }
   ],
   "source": [
    "df.head()"
   ]
  },
  {
   "cell_type": "code",
   "execution_count": 53,
   "id": "f5f9e905-a502-4edf-88b1-c36071e06689",
   "metadata": {},
   "outputs": [
    {
     "name": "stderr",
     "output_type": "stream",
     "text": [
      "C:\\Users\\lenovo\\AppData\\Local\\Temp\\ipykernel_5824\\3754981751.py:1: FutureWarning: A value is trying to be set on a copy of a DataFrame or Series through chained assignment using an inplace method.\n",
      "The behavior will change in pandas 3.0. This inplace method will never work because the intermediate object on which we are setting values always behaves as a copy.\n",
      "\n",
      "For example, when doing 'df[col].method(value, inplace=True)', try using 'df.method({col: value}, inplace=True)' or df[col] = df[col].method(value) instead, to perform the operation inplace on the original object.\n",
      "\n",
      "\n",
      "  df['Odometer (KM)'].fillna(df['Odometer (KM)'].median(), inplace=True)\n"
     ]
    }
   ],
   "source": [
    "df['Odometer (KM)'].fillna(df['Odometer (KM)'].median(), inplace=True)"
   ]
  },
  {
   "cell_type": "code",
   "execution_count": 54,
   "id": "48e1d512-9349-44f6-89af-934e190d520f",
   "metadata": {},
   "outputs": [
    {
     "data": {
      "text/plain": [
       "Make             49\n",
       "Colour           50\n",
       "Odometer (KM)     0\n",
       "Doors            50\n",
       "Price            50\n",
       "dtype: int64"
      ]
     },
     "execution_count": 54,
     "metadata": {},
     "output_type": "execute_result"
    }
   ],
   "source": [
    "df.isna().sum()"
   ]
  },
  {
   "cell_type": "code",
   "execution_count": 63,
   "id": "ef6decae-0b39-4832-84e2-b4044371a94f",
   "metadata": {},
   "outputs": [],
   "source": [
    "df['Doors']=df['Doors'].fillna(df['Doors'].median())\n",
    "df['Price']=df['Price'].fillna(df['Price'].median())"
   ]
  },
  {
   "cell_type": "code",
   "execution_count": 70,
   "id": "1cf55853-225d-48e4-8654-ce751a51d550",
   "metadata": {},
   "outputs": [],
   "source": [
    "df['Colour']=df['Colour'].fillna(df['Colour'].mode().values[0])\n",
    "df['Make']=df['Make'].fillna(df['Make'].mode().values[0])"
   ]
  },
  {
   "cell_type": "code",
   "execution_count": 71,
   "id": "ae788356-51ce-42b5-8c8f-b81fca4626b3",
   "metadata": {},
   "outputs": [
    {
     "data": {
      "text/plain": [
       "Make             0\n",
       "Colour           0\n",
       "Odometer (KM)    0\n",
       "Doors            0\n",
       "Price            0\n",
       "dtype: int64"
      ]
     },
     "execution_count": 71,
     "metadata": {},
     "output_type": "execute_result"
    }
   ],
   "source": [
    "df.isna().sum()"
   ]
  },
  {
   "cell_type": "markdown",
   "id": "85a9d5c2-1a7c-4395-9ad3-39a988b87e18",
   "metadata": {},
   "source": [
    "## MOdelling "
   ]
  },
  {
   "cell_type": "code",
   "execution_count": null,
   "id": "9918cf57-5412-47d9-a63f-174a363d6996",
   "metadata": {},
   "outputs": [],
   "source": []
  },
  {
   "cell_type": "code",
   "execution_count": null,
   "id": "4dc1a319-fd68-4c41-a3da-11433f9a8d50",
   "metadata": {},
   "outputs": [],
   "source": []
  },
  {
   "cell_type": "code",
   "execution_count": null,
   "id": "889aa69a-c576-47f8-a6c0-04f7c87ad4ea",
   "metadata": {},
   "outputs": [],
   "source": [
    "from sklearn.model_selection import train_test_split, cross_val_score\n",
    "from sklearn.preprocessing import PolynomialFeatures, StandardScaler\n",
    "from sklearn.linear_model import LinearRegression, Lasso, Ridge\n",
    "from sklearn.ensemble import RandomForestRegressor\n",
    "from sklearn.svm import SVR\n",
    "from sklearn.tree import DecisionTreeRegressor\n",
    "from sklearn.metrics import mean_squared_error, r2_score, mean_absolute_error\n",
    "import statsmodels.api as sm\n",
    "from sklearn.linear_model import ElasticNet\n",
    "\n",
    "\n",
    "# 4. Building Multiple Linear Regression Model\n",
    "print(\"\\nBuilding and training Multiple Linear Regression model...\")\n",
    "lin_reg = LinearRegression()\n",
    "lin_reg.fit(X_train, y_train)\n",
    "\n",
    "# Predictions and evaluation\n",
    "y_pred_lin = lin_reg.predict(X_test)\n",
    "\n",
    "# Print the coefficients and intercept\n",
    "print(\"\\nLinear Regression Coefficients:\")\n",
    "print(f\"Intercept: {lin_reg.intercept_}\")\n",
    "print(f\"Coefficients: {lin_reg.coef_}\")\n",
    "\n",
    "# Match coefficients to the feature names\n",
    "for feature, coef in zip(X.columns, lin_reg.coef_):\n",
    "    print(f\"{feature}: {coef}\")\n",
    "\n",
    "print(\"\\nMultiple Linear Regression Performance:\")\n",
    "print(f\"Mean Absolute Error: {mean_absolute_error(y_test, y_pred_lin)}\")\n",
    "\n",
    "\n",
    "# Predictions and evaluation\n",
    "y_pred_lin = lin_reg.predict(X_test)\n",
    "print(\"\\nMultiple Linear Regression Performance:\")\n",
    "print(f\"Mean Absolute Error: {mean_absolute_error(y_test, y_pred_lin)}\")\n",
    "\n",
    "\n",
    "# 5. Polynomial Regression\n",
    "print(\"\\nBuilding Polynomial Regression model...\")\n",
    "poly = PolynomialFeatures(degree=2)\n",
    "X_train_poly = poly.fit_transform(X_train)\n",
    "X_test_poly = poly.transform(X_test)\n",
    "\n",
    "poly_reg = LinearRegression()\n",
    "poly_reg.fit(X_train_poly, y_train)\n",
    "\n",
    "# Predictions and evaluation\n",
    "y_pred_poly = poly_reg.predict(X_test_poly)\n",
    "print(\"\\nPolynomial Regression Performance:\")\n",
    "print(f\"Mean Absolute Error: {mean_absolute_error(y_test, y_pred_poly)}\")\n",
    "\n",
    "\n",
    "# 6. Lasso Regression\n",
    "print(\"\\nBuilding Lasso Regression model...\")\n",
    "lasso = Lasso(alpha=1.0)\n",
    "lasso.fit(X_train, y_train)\n",
    "\n",
    "# Predictions and evaluation\n",
    "y_pred_lasso = lasso.predict(X_test)\n",
    "print(\"\\nLasso Regression Performance:\")\n",
    "print(f\"Mean Absolute Error: {mean_absolute_error(y_test, y_pred_lasso)}\")\n",
    "\n",
    "\n",
    "# 7. Ridge Regression\n",
    "print(\"\\nBuilding Ridge Regression model...\")\n",
    "ridge = Ridge(alpha=1.0)\n",
    "ridge.fit(X_train, y_train)\n",
    "\n",
    "# Predictions and evaluation\n",
    "y_pred_ridge = ridge.predict(X_test)\n",
    "print(\"\\nRidge Regression Performance:\")\n",
    "print(f\"Mean Absolute Error: {mean_absolute_error(y_test, y_pred_ridge)}\")\n",
    "\n",
    "\n",
    "# 8. Random Forest Regressor\n",
    "print(\"\\nBuilding Random Forest Regressor model...\")\n",
    "rf = RandomForestRegressor(n_estimators=100, random_state=42)\n",
    "rf.fit(X_train, y_train)\n",
    "\n",
    "# Predictions and evaluation\n",
    "y_pred_rf = rf.predict(X_test)\n",
    "print(\"\\nRandom Forest Regressor Performance:\")\n",
    "print(f\"Mean Absolute Error: {mean_absolute_error(y_test, y_pred_rf)}\")\n",
    "\n",
    "\n",
    "# 9. SVM Regressor\n",
    "print(\"\\nBuilding Support Vector Regressor (SVM) model...\")\n",
    "svm_reg = SVR(kernel='rbf')\n",
    "svm_reg.fit(X_train, y_train)\n",
    "\n",
    "# Predictions and evaluation\n",
    "y_pred_svm = svm_reg.predict(X_test)\n",
    "print(\"\\nSVM Regressor Performance:\")\n",
    "print(f\"Mean Absolute Error: {mean_absolute_error(y_test, y_pred_svm)}\")\n",
    "\n",
    "\n",
    "# 10. Decision Tree Regressor\n",
    "print(\"\\nBuilding Decision Tree Regressor model...\")\n",
    "tree_reg = DecisionTreeRegressor(random_state=42)\n",
    "tree_reg.fit(X_train, y_train)\n",
    "\n",
    "# Predictions and evaluation\n",
    "y_pred_tree = tree_reg.predict(X_test)\n",
    "print(\"\\nDecision Tree Regressor Performance:\")\n",
    "print(f\"Mean Absolute Error: {mean_absolute_error(y_test, y_pred_tree)}\")\n",
    "\n",
    "\n",
    "\n",
    "# Building Elastic Net model\n",
    "elastic_net = ElasticNet(alpha=1.0, l1_ratio=0.5)  # l1_ratio controls the balance between L1 and L2 penalties\n",
    "elastic_net.fit(X_train, y_train)\n",
    "\n",
    "# Predictions and evaluation\n",
    "y_pred_elastic = elastic_net.predict(X_test)\n",
    "\n",
    "print(\"\\nElastic Net Performance:\")\n",
    "print(f\"Mean Absolute Error: {mean_absolute_error(y_test, y_pred_elastic)}\")\n",
    "\n",
    "\n",
    "\n",
    "\n",
    "# 11. Model Evaluation Metrics Comparison (MAE)\n",
    "print(\"\\nComparing Models' Performance:\")\n",
    "models = ['Linear Regression', 'Polynomial Regression', 'Lasso', 'Ridge', 'Elastic Net', 'Random Forest', 'SVM', 'Decision Tree']\n",
    "mae_values = [\n",
    "    mean_absolute_error(y_test, y_pred_lin),\n",
    "    mean_absolute_error(y_test, y_pred_poly),\n",
    "    mean_absolute_error(y_test, y_pred_lasso),\n",
    "    mean_absolute_error(y_test, y_pred_ridge),\n",
    "    mean_absolute_error(y_test, y_pred_elastic),\n",
    "    mean_absolute_error(y_test, y_pred_rf),\n",
    "    mean_absolute_error(y_test, y_pred_svm),\n",
    "    mean_absolute_error(y_test, y_pred_tree)\n",
    "]\n",
    "\n",
    "\n",
    "\n",
    "for model, mae in zip(models, mae_values):\n",
    "    print(f\"{model} - MAE: {mae:.2f}\")\n"
   ]
  },
  {
   "cell_type": "code",
   "execution_count": null,
   "id": "622453a1-4916-4bf5-ac74-60fe69e0191d",
   "metadata": {},
   "outputs": [],
   "source": []
  }
 ],
 "metadata": {
  "kernelspec": {
   "display_name": "Python 3 (ipykernel)",
   "language": "python",
   "name": "python3"
  },
  "language_info": {
   "codemirror_mode": {
    "name": "ipython",
    "version": 3
   },
   "file_extension": ".py",
   "mimetype": "text/x-python",
   "name": "python",
   "nbconvert_exporter": "python",
   "pygments_lexer": "ipython3",
   "version": "3.11.2"
  }
 },
 "nbformat": 4,
 "nbformat_minor": 5
}
