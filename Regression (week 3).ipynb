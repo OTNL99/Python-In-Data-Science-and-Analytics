{
 "cells": [
  {
   "cell_type": "code",
   "execution_count": 58,
   "id": "95eaad9e-fa99-479c-b51c-08829850a3fc",
   "metadata": {},
   "outputs": [],
   "source": [
    "import numpy as np\n",
    "import pandas as pd\n",
    "import matplotlib.pyplot as plt\n",
    "import seaborn as sns"
   ]
  },
  {
   "cell_type": "code",
   "execution_count": 59,
   "id": "05cf736b-c361-4684-978a-9681863463c9",
   "metadata": {},
   "outputs": [
    {
     "data": {
      "text/html": [
       "<div>\n",
       "<style scoped>\n",
       "    .dataframe tbody tr th:only-of-type {\n",
       "        vertical-align: middle;\n",
       "    }\n",
       "\n",
       "    .dataframe tbody tr th {\n",
       "        vertical-align: top;\n",
       "    }\n",
       "\n",
       "    .dataframe thead th {\n",
       "        text-align: right;\n",
       "    }\n",
       "</style>\n",
       "<table border=\"1\" class=\"dataframe\">\n",
       "  <thead>\n",
       "    <tr style=\"text-align: right;\">\n",
       "      <th></th>\n",
       "      <th>total_bill</th>\n",
       "      <th>tip</th>\n",
       "      <th>sex</th>\n",
       "      <th>smoker</th>\n",
       "      <th>day</th>\n",
       "      <th>time</th>\n",
       "      <th>size</th>\n",
       "    </tr>\n",
       "  </thead>\n",
       "  <tbody>\n",
       "    <tr>\n",
       "      <th>0</th>\n",
       "      <td>16.99</td>\n",
       "      <td>1.01</td>\n",
       "      <td>Female</td>\n",
       "      <td>No</td>\n",
       "      <td>Sun</td>\n",
       "      <td>Dinner</td>\n",
       "      <td>2</td>\n",
       "    </tr>\n",
       "    <tr>\n",
       "      <th>1</th>\n",
       "      <td>10.34</td>\n",
       "      <td>1.66</td>\n",
       "      <td>Male</td>\n",
       "      <td>No</td>\n",
       "      <td>Sun</td>\n",
       "      <td>Dinner</td>\n",
       "      <td>3</td>\n",
       "    </tr>\n",
       "    <tr>\n",
       "      <th>2</th>\n",
       "      <td>21.01</td>\n",
       "      <td>3.50</td>\n",
       "      <td>Male</td>\n",
       "      <td>No</td>\n",
       "      <td>Sun</td>\n",
       "      <td>Dinner</td>\n",
       "      <td>3</td>\n",
       "    </tr>\n",
       "    <tr>\n",
       "      <th>3</th>\n",
       "      <td>23.68</td>\n",
       "      <td>3.31</td>\n",
       "      <td>Male</td>\n",
       "      <td>No</td>\n",
       "      <td>Sun</td>\n",
       "      <td>Dinner</td>\n",
       "      <td>2</td>\n",
       "    </tr>\n",
       "    <tr>\n",
       "      <th>4</th>\n",
       "      <td>24.59</td>\n",
       "      <td>3.61</td>\n",
       "      <td>Female</td>\n",
       "      <td>No</td>\n",
       "      <td>Sun</td>\n",
       "      <td>Dinner</td>\n",
       "      <td>4</td>\n",
       "    </tr>\n",
       "  </tbody>\n",
       "</table>\n",
       "</div>"
      ],
      "text/plain": [
       "   total_bill   tip     sex smoker  day    time  size\n",
       "0       16.99  1.01  Female     No  Sun  Dinner     2\n",
       "1       10.34  1.66    Male     No  Sun  Dinner     3\n",
       "2       21.01  3.50    Male     No  Sun  Dinner     3\n",
       "3       23.68  3.31    Male     No  Sun  Dinner     2\n",
       "4       24.59  3.61  Female     No  Sun  Dinner     4"
      ]
     },
     "execution_count": 59,
     "metadata": {},
     "output_type": "execute_result"
    }
   ],
   "source": [
    "tips=sns.load_dataset('tips')\n",
    "tips.head()"
   ]
  },
  {
   "cell_type": "code",
   "execution_count": 60,
   "id": "e0adf3b4-9b57-4c0c-9df7-1ba67ce4b314",
   "metadata": {},
   "outputs": [
    {
     "data": {
      "text/plain": [
       "(244, 7)"
      ]
     },
     "execution_count": 60,
     "metadata": {},
     "output_type": "execute_result"
    }
   ],
   "source": [
    "tips.shape"
   ]
  },
  {
   "cell_type": "code",
   "execution_count": 61,
   "id": "b9a607d9-6a72-4953-a541-3a8a1054bf5a",
   "metadata": {},
   "outputs": [
    {
     "name": "stdout",
     "output_type": "stream",
     "text": [
      "<class 'pandas.core.frame.DataFrame'>\n",
      "RangeIndex: 244 entries, 0 to 243\n",
      "Data columns (total 7 columns):\n",
      " #   Column      Non-Null Count  Dtype   \n",
      "---  ------      --------------  -----   \n",
      " 0   total_bill  244 non-null    float64 \n",
      " 1   tip         244 non-null    float64 \n",
      " 2   sex         244 non-null    category\n",
      " 3   smoker      244 non-null    category\n",
      " 4   day         244 non-null    category\n",
      " 5   time        244 non-null    category\n",
      " 6   size        244 non-null    int64   \n",
      "dtypes: category(4), float64(2), int64(1)\n",
      "memory usage: 7.4 KB\n"
     ]
    }
   ],
   "source": [
    "tips.info()"
   ]
  },
  {
   "cell_type": "code",
   "execution_count": 62,
   "id": "a9d17e4e-18eb-4dad-8ff8-8e9d79c5bc7e",
   "metadata": {},
   "outputs": [
    {
     "data": {
      "text/plain": [
       "Index(['total_bill', 'tip', 'sex', 'smoker', 'day', 'time', 'size'], dtype='object')"
      ]
     },
     "execution_count": 62,
     "metadata": {},
     "output_type": "execute_result"
    }
   ],
   "source": [
    "tips.columns"
   ]
  },
  {
   "cell_type": "code",
   "execution_count": 63,
   "id": "d5b0385a-85c5-4b34-a101-96962f761401",
   "metadata": {},
   "outputs": [
    {
     "data": {
      "text/plain": [
       "<Axes: xlabel='sex', ylabel='count'>"
      ]
     },
     "execution_count": 63,
     "metadata": {},
     "output_type": "execute_result"
    },
    {
     "data": {
      "image/png": "[encoded data removed]",
      "text/plain": [
       "<Figure size 640x480 with 1 Axes>"
      ]
     },
     "metadata": {},
     "output_type": "display_data"
    }
   ],
   "source": [
    "sns.countplot(x='sex',data=tips)"
   ]
  },
  {
   "cell_type": "code",
   "execution_count": 64,
   "id": "cee75ebc-9f0d-4a5f-b8fe-14615bd9226b",
   "metadata": {},
   "outputs": [
    {
     "data": {
      "text/plain": [
       "<Axes: xlabel='tip', ylabel='Count'>"
      ]
     },
     "execution_count": 64,
     "metadata": {},
     "output_type": "execute_result"
    },
    {
     "data": {
      "image/png": "[encoded data removed]",
      "text/plain": [
       "<Figure size 640x480 with 1 Axes>"
      ]
     },
     "metadata": {},
     "output_type": "display_data"
    }
   ],
   "source": [
    "sns.histplot(x='tip',kde=False,bins=10,data=tips)"
   ]
  },
  {
   "cell_type": "code",
   "execution_count": 65,
   "id": "7afd0641-294c-4bc7-b628-56f9d898a5bd",
   "metadata": {},
   "outputs": [
    {
     "data": {
      "text/plain": [
       "<Axes: >"
      ]
     },
     "execution_count": 65,
     "metadata": {},
     "output_type": "execute_result"
    },
    {
     "data": {
      "image/png": "[encoded data removed]",
      "text/plain": [
       "<Figure size 640x480 with 2 Axes>"
      ]
     },
     "metadata": {},
     "output_type": "display_data"
    }
   ],
   "source": [
    "corr=tips.corr(numeric_only=True)\n",
    "sns.heatmap(corr,annot=True)"
   ]
  },
  {
   "cell_type": "code",
   "execution_count": 66,
   "id": "9052cb26-46a1-45ba-aa60-27d0931de86f",
   "metadata": {},
   "outputs": [],
   "source": [
    "from sklearn.preprocessing import StandardScaler\n",
    "from sklearn.model_selection import train_test_split\n",
    "\n",
    "X=tips.drop('tip',axis=1)\n",
    "y=tips['tip']"
   ]
  },
  {
   "cell_type": "code",
   "execution_count": 67,
   "id": "4a51e3d8-0f1e-4d77-bbda-0b57b359fea1",
   "metadata": {},
   "outputs": [
    {
     "data": {
      "text/html": [
       "<div>\n",
       "<style scoped>\n",
       "    .dataframe tbody tr th:only-of-type {\n",
       "        vertical-align: middle;\n",
       "    }\n",
       "\n",
       "    .dataframe tbody tr th {\n",
       "        vertical-align: top;\n",
       "    }\n",
       "\n",
       "    .dataframe thead th {\n",
       "        text-align: right;\n",
       "    }\n",
       "</style>\n",
       "<table border=\"1\" class=\"dataframe\">\n",
       "  <thead>\n",
       "    <tr style=\"text-align: right;\">\n",
       "      <th></th>\n",
       "      <th>total_bill</th>\n",
       "      <th>size</th>\n",
       "      <th>sex_Female</th>\n",
       "      <th>smoker_No</th>\n",
       "      <th>day_Fri</th>\n",
       "      <th>day_Sat</th>\n",
       "      <th>day_Sun</th>\n",
       "      <th>time_Dinner</th>\n",
       "    </tr>\n",
       "  </thead>\n",
       "  <tbody>\n",
       "    <tr>\n",
       "      <th>0</th>\n",
       "      <td>16.99</td>\n",
       "      <td>2</td>\n",
       "      <td>1</td>\n",
       "      <td>1</td>\n",
       "      <td>0</td>\n",
       "      <td>0</td>\n",
       "      <td>1</td>\n",
       "      <td>1</td>\n",
       "    </tr>\n",
       "    <tr>\n",
       "      <th>1</th>\n",
       "      <td>10.34</td>\n",
       "      <td>3</td>\n",
       "      <td>0</td>\n",
       "      <td>1</td>\n",
       "      <td>0</td>\n",
       "      <td>0</td>\n",
       "      <td>1</td>\n",
       "      <td>1</td>\n",
       "    </tr>\n",
       "    <tr>\n",
       "      <th>2</th>\n",
       "      <td>21.01</td>\n",
       "      <td>3</td>\n",
       "      <td>0</td>\n",
       "      <td>1</td>\n",
       "      <td>0</td>\n",
       "      <td>0</td>\n",
       "      <td>1</td>\n",
       "      <td>1</td>\n",
       "    </tr>\n",
       "    <tr>\n",
       "      <th>3</th>\n",
       "      <td>23.68</td>\n",
       "      <td>2</td>\n",
       "      <td>0</td>\n",
       "      <td>1</td>\n",
       "      <td>0</td>\n",
       "      <td>0</td>\n",
       "      <td>1</td>\n",
       "      <td>1</td>\n",
       "    </tr>\n",
       "    <tr>\n",
       "      <th>4</th>\n",
       "      <td>24.59</td>\n",
       "      <td>4</td>\n",
       "      <td>1</td>\n",
       "      <td>1</td>\n",
       "      <td>0</td>\n",
       "      <td>0</td>\n",
       "      <td>1</td>\n",
       "      <td>1</td>\n",
       "    </tr>\n",
       "  </tbody>\n",
       "</table>\n",
       "</div>"
      ],
      "text/plain": [
       "   total_bill  size  sex_Female  smoker_No  day_Fri  day_Sat  day_Sun  \\\n",
       "0       16.99     2           1          1        0        0        1   \n",
       "1       10.34     3           0          1        0        0        1   \n",
       "2       21.01     3           0          1        0        0        1   \n",
       "3       23.68     2           0          1        0        0        1   \n",
       "4       24.59     4           1          1        0        0        1   \n",
       "\n",
       "   time_Dinner  \n",
       "0            1  \n",
       "1            1  \n",
       "2            1  \n",
       "3            1  \n",
       "4            1  "
      ]
     },
     "execution_count": 67,
     "metadata": {},
     "output_type": "execute_result"
    }
   ],
   "source": [
    "X=pd.get_dummies(X,drop_first=True,dtype=int)\n",
    "X.head()"
   ]
  },
  {
   "cell_type": "code",
   "execution_count": 68,
   "id": "d7070089-00f5-4588-8144-712e60d4dcca",
   "metadata": {},
   "outputs": [],
   "source": [
    "X_train, X_test, y_train, y_test=train_test_split(X,y,test_size=0.3,random_state=42)\n",
    "sc=StandardScaler()\n",
    "X_train=sc.fit_transform(X_train)\n",
    "X_test=sc.transform(X_test)"
   ]
  },
  {
   "cell_type": "code",
   "execution_count": 69,
   "id": "eb76f5c2-545c-4623-b386-a38a46ccd180",
   "metadata": {},
   "outputs": [
    {
     "name": "stdout",
     "output_type": "stream",
     "text": [
      "\n",
      "Building and training Multiple Linear Regression model...\n",
      "\n",
      "Linear Regression Coefficients:\n",
      "Intercept: 3.088941176470588\n",
      "Coefficients: [ 0.87312999  0.2539859  -0.03454708  0.14698166  0.07149221  0.05267251\n",
      "  0.02482893 -0.08339175]\n",
      "total_bill: 0.8731299902300581\n",
      "size: 0.25398590031564827\n",
      "sex_Female: -0.0345470816353645\n",
      "smoker_No: 0.14698166431557655\n",
      "day_Fri: 0.07149221379052279\n",
      "day_Sat: 0.05267251492254868\n",
      "day_Sun: 0.024828933129249595\n",
      "time_Dinner: -0.08339175052107142\n",
      "\n",
      "Multiple Linear Regression Performance:\n",
      "Mean Absolute Error: 0.7171821289867384\n",
      "\n",
      "Building Polynomial Regression model...\n",
      "\n",
      "Polynomial Regression Performance:\n",
      "Mean Absolute Error: 0.7996994101034628\n",
      "\n",
      "Building Lasso Regression model...\n",
      "\n",
      "Lasso Regression Performance:\n",
      "Mean Absolute Error: 1.0083052464228934\n",
      "\n",
      "Building Ridge Regression model...\n",
      "\n",
      "Ridge Regression Performance:\n",
      "Mean Absolute Error: 0.7166760681181916\n",
      "\n",
      "Building Random Forest Regressor model...\n",
      "\n",
      "Random Forest Regressor Performance:\n",
      "Mean Absolute Error: 0.7685067567567572\n",
      "\n",
      "Building Support Vector Regressor (SVM) model...\n",
      "\n",
      "SVM Regressor Performance:\n",
      "Mean Absolute Error: 0.714375809601693\n",
      "\n",
      "Building Decision Tree Regressor model...\n",
      "\n",
      "Decision Tree Regressor Performance:\n",
      "Mean Absolute Error: 0.8867567567567568\n",
      "\n",
      "Elastic Net Performance:\n",
      "Mean Absolute Error: 0.8389319938816103\n",
      "\n",
      "Comparing Models' Performance:\n",
      "Linear Regression - MAE: 0.72\n",
      "Polynomial Regression - MAE: 0.80\n",
      "Lasso - MAE: 1.01\n",
      "Ridge - MAE: 0.72\n",
      "Elastic Net - MAE: 0.84\n",
      "Random Forest - MAE: 0.77\n",
      "SVM - MAE: 0.71\n",
      "Decision Tree - MAE: 0.89\n"
     ]
    }
   ],
   "source": [
    "# from sklearn.model_selection import train_test_split, cross_val_score\n",
    "from sklearn.preprocessing import PolynomialFeatures, StandardScaler\n",
    "from sklearn.linear_model import LinearRegression, Lasso, Ridge,ElasticNet\n",
    "from sklearn.ensemble import RandomForestRegressor\n",
    "from sklearn.svm import SVR\n",
    "from sklearn.tree import DecisionTreeRegressor\n",
    "from sklearn.metrics import mean_squared_error, r2_score, mean_absolute_error\n",
    "import statsmodels.api as sm\n",
    "\n",
    "\n",
    "# 4. Building Multiple Linear Regression Model\n",
    "print(\"\\nBuilding and training Multiple Linear Regression model...\")\n",
    "lin_reg = LinearRegression()\n",
    "lin_reg.fit(X_train, y_train)\n",
    "\n",
    "# Predictions and evaluation\n",
    "y_pred_lin = lin_reg.predict(X_test)\n",
    "\n",
    "# Print the coefficients and intercept\n",
    "print(\"\\nLinear Regression Coefficients:\")\n",
    "print(f\"Intercept: {lin_reg.intercept_}\")\n",
    "print(f\"Coefficients: {lin_reg.coef_}\")\n",
    "\n",
    "# Match coefficients to the feature names\n",
    "for feature, coef in zip(X.columns, lin_reg.coef_):\n",
    "    print(f\"{feature}: {coef}\")\n",
    "\n",
    "print(\"\\nMultiple Linear Regression Performance:\")\n",
    "print(f\"Mean Absolute Error: {mean_absolute_error(y_test, y_pred_lin)}\")\n",
    "\n",
    "\n",
    "# Predictions and evaluation\n",
    "# y_pred_lin = lin_reg.predict(X_test)\n",
    "# print(\"\\nMultiple Linear Regression Performance:\")\n",
    "# print(f\"Mean Absolute Error: {mean_absolute_error(y_test, y_pred_lin)}\")\n",
    "\n",
    "\n",
    "# 5. Polynomial Regression\n",
    "print(\"\\nBuilding Polynomial Regression model...\")\n",
    "poly = PolynomialFeatures(degree=2)\n",
    "X_train_poly = poly.fit_transform(X_train)\n",
    "X_test_poly = poly.transform(X_test)\n",
    "\n",
    "poly_reg = LinearRegression()\n",
    "poly_reg.fit(X_train_poly, y_train)\n",
    "\n",
    "# Predictions and evaluation\n",
    "y_pred_poly = poly_reg.predict(X_test_poly)\n",
    "print(\"\\nPolynomial Regression Performance:\")\n",
    "print(f\"Mean Absolute Error: {mean_absolute_error(y_test, y_pred_poly)}\")\n",
    "\n",
    "\n",
    "# 6. Lasso Regression\n",
    "print(\"\\nBuilding Lasso Regression model...\")\n",
    "lasso = Lasso(alpha=1.0)\n",
    "lasso.fit(X_train, y_train)\n",
    "\n",
    "# Predictions and evaluation\n",
    "y_pred_lasso = lasso.predict(X_test)\n",
    "print(\"\\nLasso Regression Performance:\")\n",
    "print(f\"Mean Absolute Error: {mean_absolute_error(y_test, y_pred_lasso)}\")\n",
    "\n",
    "\n",
    "# 7. Ridge Regression\n",
    "print(\"\\nBuilding Ridge Regression model...\")\n",
    "ridge = Ridge(alpha=1.0)\n",
    "ridge.fit(X_train, y_train)\n",
    "\n",
    "# Predictions and evaluation\n",
    "y_pred_ridge = ridge.predict(X_test)\n",
    "print(\"\\nRidge Regression Performance:\")\n",
    "print(f\"Mean Absolute Error: {mean_absolute_error(y_test, y_pred_ridge)}\")\n",
    "\n",
    "\n",
    "# 8. Random Forest Regressor\n",
    "print(\"\\nBuilding Random Forest Regressor model...\")\n",
    "rf = RandomForestRegressor(n_estimators=100, random_state=42)\n",
    "rf.fit(X_train, y_train)\n",
    "\n",
    "# Predictions and evaluation\n",
    "y_pred_rf = rf.predict(X_test)\n",
    "print(\"\\nRandom Forest Regressor Performance:\")\n",
    "print(f\"Mean Absolute Error: {mean_absolute_error(y_test, y_pred_rf)}\")\n",
    "\n",
    "\n",
    "# 9. SVM Regressor\n",
    "print(\"\\nBuilding Support Vector Regressor (SVM) model...\")\n",
    "svm_reg = SVR(kernel='rbf')\n",
    "svm_reg.fit(X_train, y_train)\n",
    "\n",
    "# Predictions and evaluation\n",
    "y_pred_svm = svm_reg.predict(X_test)\n",
    "print(\"\\nSVM Regressor Performance:\")\n",
    "print(f\"Mean Absolute Error: {mean_absolute_error(y_test, y_pred_svm)}\")\n",
    "\n",
    "\n",
    "# 10. Decision Tree Regressor\n",
    "print(\"\\nBuilding Decision Tree Regressor model...\")\n",
    "tree_reg = DecisionTreeRegressor(random_state=42)\n",
    "tree_reg.fit(X_train, y_train)\n",
    "\n",
    "# Predictions and evaluation\n",
    "y_pred_tree = tree_reg.predict(X_test)\n",
    "print(\"\\nDecision Tree Regressor Performance:\")\n",
    "print(f\"Mean Absolute Error: {mean_absolute_error(y_test, y_pred_tree)}\")\n",
    "\n",
    "\n",
    "\n",
    "# Building Elastic Net model\n",
    "elastic_net = ElasticNet(alpha=1.0, l1_ratio=0.5)  # l1_ratio controls the balance between L1 and L2 penalties\n",
    "elastic_net.fit(X_train, y_train)\n",
    "\n",
    "# Predictions and evaluation\n",
    "y_pred_elastic = elastic_net.predict(X_test)\n",
    "\n",
    "print(\"\\nElastic Net Performance:\")\n",
    "print(f\"Mean Absolute Error: {mean_absolute_error(y_test, y_pred_elastic)}\")\n",
    "\n",
    "\n",
    "\n",
    "\n",
    "# 11. Model Evaluation Metrics Comparison (MAE)\n",
    "print(\"\\nComparing Models' Performance:\")\n",
    "models = ['Linear Regression', 'Polynomial Regression', 'Lasso', 'Ridge', 'Elastic Net', 'Random Forest', 'SVM', 'Decision Tree']\n",
    "mae_values = [\n",
    "    mean_absolute_error(y_test, y_pred_lin),\n",
    "    mean_absolute_error(y_test, y_pred_poly),\n",
    "    mean_absolute_error(y_test, y_pred_lasso),\n",
    "    mean_absolute_error(y_test, y_pred_ridge),\n",
    "    mean_absolute_error(y_test, y_pred_elastic),\n",
    "    mean_absolute_error(y_test, y_pred_rf),\n",
    "    mean_absolute_error(y_test, y_pred_svm),\n",
    "    mean_absolute_error(y_test, y_pred_tree)\n",
    "]\n",
    "\n",
    "\n",
    "\n",
    "for model, mae in zip(models, mae_values):\n",
    "    print(f\"{model} - MAE: {mae:.2f}\")\n"
   ]
  },
  {
   "cell_type": "code",
   "execution_count": null,
   "id": "b1232dd5-540c-4769-a65b-9059254bc98a",
   "metadata": {},
   "outputs": [],
   "source": []
  }
 ],
 "metadata": {
  "kernelspec": {
   "display_name": "Python 3 (ipykernel)",
   "language": "python",
   "name": "python3"
  },
  "language_info": {
   "codemirror_mode": {
    "name": "ipython",
    "version": 3
   },
   "file_extension": ".py",
   "mimetype": "text/x-python",
   "name": "python",
   "nbconvert_exporter": "python",
   "pygments_lexer": "ipython3",
   "version": "3.11.2"
  }
 },
 "nbformat": 4,
 "nbformat_minor": 5
}
